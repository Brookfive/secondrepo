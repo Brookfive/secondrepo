{
 "cells": [
  {
   "cell_type": "code",
   "execution_count": 1,
   "id": "e6279571-83bc-4ba5-910d-5804741ef624",
   "metadata": {
    "scrolled": true
   },
   "outputs": [
    {
     "data": {
      "text/plain": [
       "True"
      ]
     },
     "execution_count": 1,
     "metadata": {},
     "output_type": "execute_result"
    }
   ],
   "source": [
    "from dotenv import load_dotenv\n",
    "load_dotenv('/etc/proxy.env')"
   ]
  },
  {
   "cell_type": "code",
   "execution_count": 2,
   "id": "59e5c118-4855-4924-95c7-1bae63d45198",
   "metadata": {},
   "outputs": [],
   "source": [
    "# !pip install transformers -U"
   ]
  },
  {
   "cell_type": "code",
   "execution_count": 3,
   "id": "b4fae263-6f47-405d-a7a8-f1cb155c92ce",
   "metadata": {},
   "outputs": [],
   "source": [
    "# !pip install tf-keras"
   ]
  },
  {
   "cell_type": "code",
   "execution_count": 4,
   "id": "2e82d1b7-b3b4-4f2c-b498-cff9436ca839",
   "metadata": {},
   "outputs": [],
   "source": [
    "# !pip install 'accelerate>=0.26.0'"
   ]
  },
  {
   "cell_type": "code",
   "execution_count": 5,
   "id": "a3e01f4f-74cd-47ac-a09f-1fea0d88ab69",
   "metadata": {},
   "outputs": [
    {
     "name": "stderr",
     "output_type": "stream",
     "text": [
      "2024-10-12 14:13:58.605376: I tensorflow/core/util/port.cc:153] oneDNN custom operations are on. You may see slightly different numerical results due to floating-point round-off errors from different computation orders. To turn them off, set the environment variable `TF_ENABLE_ONEDNN_OPTS=0`.\n",
      "2024-10-12 14:13:58.627256: E external/local_xla/xla/stream_executor/cuda/cuda_fft.cc:485] Unable to register cuFFT factory: Attempting to register factory for plugin cuFFT when one has already been registered\n",
      "2024-10-12 14:13:58.651386: E external/local_xla/xla/stream_executor/cuda/cuda_dnn.cc:8454] Unable to register cuDNN factory: Attempting to register factory for plugin cuDNN when one has already been registered\n",
      "2024-10-12 14:13:58.658260: E external/local_xla/xla/stream_executor/cuda/cuda_blas.cc:1452] Unable to register cuBLAS factory: Attempting to register factory for plugin cuBLAS when one has already been registered\n",
      "2024-10-12 14:13:58.676873: I tensorflow/core/platform/cpu_feature_guard.cc:210] This TensorFlow binary is optimized to use available CPU instructions in performance-critical operations.\n",
      "To enable the following instructions: AVX2 AVX512F AVX512_VNNI FMA, in other operations, rebuild TensorFlow with the appropriate compiler flags.\n"
     ]
    },
    {
     "name": "stdout",
     "output_type": "stream",
     "text": [
      "True\n"
     ]
    },
    {
     "data": {
      "text/plain": [
       "'2.3.0'"
      ]
     },
     "execution_count": 5,
     "metadata": {},
     "output_type": "execute_result"
    }
   ],
   "source": [
    "import torch\n",
    "import pandas as pd\n",
    "import numpy as np\n",
    "import random\n",
    "from sklearn.metrics import accuracy_score, recall_score, precision_score, f1_score, classification_report, confusion_matrix\n",
    "from transformers import TrainingArguments, Trainer\n",
    "from transformers import BertTokenizer, BertForSequenceClassification\n",
    "# from sklearn.model_selection import train_test_split\n",
    "\n",
    "print(torch.cuda.is_available())\n",
    "torch.__version__"
   ]
  },
  {
   "cell_type": "code",
   "execution_count": 6,
   "id": "644b4aae-97cc-497a-bc67-bf435b367b14",
   "metadata": {},
   "outputs": [
    {
     "data": {
      "text/plain": [
       "120"
      ]
     },
     "execution_count": 6,
     "metadata": {},
     "output_type": "execute_result"
    }
   ],
   "source": [
    "num_labels =120\n",
    "num_labels "
   ]
  },
  {
   "cell_type": "code",
   "execution_count": 7,
   "id": "e6db2266-a6cd-4a8f-8020-0e443bec06d5",
   "metadata": {
    "jupyter": {
     "source_hidden": true
    }
   },
   "outputs": [],
   "source": [
    "ids_to_classes = ['acadapter | ACAdapter Others',\n",
    "       'acadapter | Adapter Cannot Charge System', 'acadapter | _others_',\n",
    "       'audio | Audio Others', 'audio | Distorted Audio',\n",
    "       'audio | Earphone no sound', 'audio | No Audio',\n",
    "       'audio | Speaker no sound', 'audio | _others_',\n",
    "       'battery | Battery Not Charging', 'battery | Battery Others',\n",
    "       'battery | Short Life/ Discharge Quickly', 'battery | _others_',\n",
    "       'bios | BIOS Others', 'bios | _others_', 'bluetooth | _others_',\n",
    "       'bootup | No Boot', 'bootup | No Post', 'bootup | No Power',\n",
    "       'bootup | _others_', 'bsod | BSOD Others',\n",
    "       'bsod | BSOD-No details', 'bsod | _others_',\n",
    "       'call text insufficient | Call text insufficient',\n",
    "       \"charging | System can't charging\", 'charging | _others_',\n",
    "       'dock | Dock station failed', 'dock | _others_',\n",
    "       'hdd/ssd | Cannot install 2nd HDD/SSD',\n",
    "       'hdd/ssd | HDD/SSD Cannot Detected', 'hdd/ssd | HDD/SSD Others',\n",
    "       'hdd/ssd | HDD/SSD Unbootable', 'hdd/ssd | _others_',\n",
    "       'keyboard | KB Backlight malfunction', 'keyboard | KB Not work',\n",
    "       'keyboard | Key damaged', 'keyboard | Key fall',\n",
    "       'keyboard | Key not work', 'keyboard | Keyboard Others',\n",
    "       'keyboard | _others_', 'keyboard | key stuck',\n",
    "       'lan | Lan port loose/abnormal', 'lan | _others_',\n",
    "       'lcdpanelquality | Cracked Glass',\n",
    "       'lcdpanelquality | LCDPanelQuality Others',\n",
    "       'lcdpanelquality | Lines&Stripes', 'lcdpanelquality | Spots',\n",
    "       'lcdpanelquality | _others_', 'mechanical | BackCover',\n",
    "       'mechanical | Buttons malfunction', 'mechanical | Hinge',\n",
    "       'mechanical | Mechanical Others', 'mechanical | _others_',\n",
    "       'memory | Memory failed', 'memory | _others_',\n",
    "       'microphone | Mic function abnormal', 'microphone | _others_',\n",
    "       'mwd | Damage', 'mwd | _others_', 'noise | Fan noise(thermal)',\n",
    "       'noise | Noise Others', 'noise | _others_',\n",
    "       'peripherals keyboard | KB Not work',\n",
    "       'peripherals keyboard | Key fall',\n",
    "       'peripherals keyboard | Key not work',\n",
    "       'peripherals keyboard | Keyboard Others',\n",
    "       'peripherals keyboard | TP Click not working',\n",
    "       'peripherals keyboard | TP Erratic Pointer',\n",
    "       'peripherals keyboard | TP not work',\n",
    "       'peripherals keyboard | TouchPad Others',\n",
    "       'peripherals keyboard | _others_',\n",
    "       'peripherals keyboard | key stuck', 'portslot | Audio port',\n",
    "       'portslot | DC-IN', 'portslot | HDMI', 'portslot | RJ45',\n",
    "       'portslot | Type-C', 'portslot | USB', 'portslot | _others_',\n",
    "       'security | _others_', 'software | OS',\n",
    "       'software | Software Others', 'software | _others_',\n",
    "       'stylus | Stylus Others', 'stylus | _others_',\n",
    "       'systemstability | Abnormal Reboot', 'systemstability | Freezing',\n",
    "       'systemstability | Shut Down unexpected',\n",
    "       'systemstability | Slow Performance',\n",
    "       'systemstability | System Stability Others',\n",
    "       'systemstability | System freezing', 'systemstability | _others_',\n",
    "       'thermal | CPU high temp/skin temp', 'thermal | Fan not work',\n",
    "       'thermal | Thermal Others', 'thermal | _others_',\n",
    "       'touchpad | TP Click not working', 'touchpad | TP Erratic Pointer',\n",
    "       'touchpad | TP not work', 'touchpad | TP stuck',\n",
    "       'touchpad | TouchPad Others', 'touchpad | _others_',\n",
    "       'touchpanel | Touch Panel No Response', 'touchpanel | _others_',\n",
    "       'video | Abnormal color', 'video | Dim Video',\n",
    "       'video | Distortion', 'video | Flickers', 'video | No video',\n",
    "       'video | Video Others', 'video | _others_',\n",
    "       'webcam | Camera No function', 'webcam | Webcam Others',\n",
    "       'webcam | _others_', 'wireless | WLAN Cannot Connect',\n",
    "       'wireless | WLAN Cannot Detect', 'wireless | Wireless Others',\n",
    "       'wireless | _others_', 'wwan | SIM not Detected',\n",
    "       'wwan | _others_']"
   ]
  },
  {
   "cell_type": "code",
   "execution_count": 8,
   "id": "1d615c4b-40b9-4cd0-88cb-01fb12402d87",
   "metadata": {},
   "outputs": [
    {
     "data": {
      "text/plain": [
       "120"
      ]
     },
     "execution_count": 8,
     "metadata": {},
     "output_type": "execute_result"
    }
   ],
   "source": [
    "len(ids_to_classes)"
   ]
  },
  {
   "cell_type": "code",
   "execution_count": 9,
   "id": "771d8418-0651-41e9-9c3a-f8197ddb3e73",
   "metadata": {},
   "outputs": [
    {
     "data": {
      "text/plain": [
       "{'acadapter | ACAdapter Others': 0,\n",
       " 'acadapter | Adapter Cannot Charge System': 1,\n",
       " 'acadapter | _others_': 2,\n",
       " 'audio | Audio Others': 3,\n",
       " 'audio | Distorted Audio': 4,\n",
       " 'audio | Earphone no sound': 5,\n",
       " 'audio | No Audio': 6,\n",
       " 'audio | Speaker no sound': 7,\n",
       " 'audio | _others_': 8,\n",
       " 'battery | Battery Not Charging': 9,\n",
       " 'battery | Battery Others': 10,\n",
       " 'battery | Short Life/ Discharge Quickly': 11,\n",
       " 'battery | _others_': 12,\n",
       " 'bios | BIOS Others': 13,\n",
       " 'bios | _others_': 14,\n",
       " 'bluetooth | _others_': 15,\n",
       " 'bootup | No Boot': 16,\n",
       " 'bootup | No Post': 17,\n",
       " 'bootup | No Power': 18,\n",
       " 'bootup | _others_': 19,\n",
       " 'bsod | BSOD Others': 20,\n",
       " 'bsod | BSOD-No details': 21,\n",
       " 'bsod | _others_': 22,\n",
       " 'call text insufficient | Call text insufficient': 23,\n",
       " \"charging | System can't charging\": 24,\n",
       " 'charging | _others_': 25,\n",
       " 'dock | Dock station failed': 26,\n",
       " 'dock | _others_': 27,\n",
       " 'hdd/ssd | Cannot install 2nd HDD/SSD': 28,\n",
       " 'hdd/ssd | HDD/SSD Cannot Detected': 29,\n",
       " 'hdd/ssd | HDD/SSD Others': 30,\n",
       " 'hdd/ssd | HDD/SSD Unbootable': 31,\n",
       " 'hdd/ssd | _others_': 32,\n",
       " 'keyboard | KB Backlight malfunction': 33,\n",
       " 'keyboard | KB Not work': 34,\n",
       " 'keyboard | Key damaged': 35,\n",
       " 'keyboard | Key fall': 36,\n",
       " 'keyboard | Key not work': 37,\n",
       " 'keyboard | Keyboard Others': 38,\n",
       " 'keyboard | _others_': 39,\n",
       " 'keyboard | key stuck': 40,\n",
       " 'lan | Lan port loose/abnormal': 41,\n",
       " 'lan | _others_': 42,\n",
       " 'lcdpanelquality | Cracked Glass': 43,\n",
       " 'lcdpanelquality | LCDPanelQuality Others': 44,\n",
       " 'lcdpanelquality | Lines&Stripes': 45,\n",
       " 'lcdpanelquality | Spots': 46,\n",
       " 'lcdpanelquality | _others_': 47,\n",
       " 'mechanical | BackCover': 48,\n",
       " 'mechanical | Buttons malfunction': 49,\n",
       " 'mechanical | Hinge': 50,\n",
       " 'mechanical | Mechanical Others': 51,\n",
       " 'mechanical | _others_': 52,\n",
       " 'memory | Memory failed': 53,\n",
       " 'memory | _others_': 54,\n",
       " 'microphone | Mic function abnormal': 55,\n",
       " 'microphone | _others_': 56,\n",
       " 'mwd | Damage': 57,\n",
       " 'mwd | _others_': 58,\n",
       " 'noise | Fan noise(thermal)': 59,\n",
       " 'noise | Noise Others': 60,\n",
       " 'noise | _others_': 61,\n",
       " 'peripherals keyboard | KB Not work': 62,\n",
       " 'peripherals keyboard | Key fall': 63,\n",
       " 'peripherals keyboard | Key not work': 64,\n",
       " 'peripherals keyboard | Keyboard Others': 65,\n",
       " 'peripherals keyboard | TP Click not working': 66,\n",
       " 'peripherals keyboard | TP Erratic Pointer': 67,\n",
       " 'peripherals keyboard | TP not work': 68,\n",
       " 'peripherals keyboard | TouchPad Others': 69,\n",
       " 'peripherals keyboard | _others_': 70,\n",
       " 'peripherals keyboard | key stuck': 71,\n",
       " 'portslot | Audio port': 72,\n",
       " 'portslot | DC-IN': 73,\n",
       " 'portslot | HDMI': 74,\n",
       " 'portslot | RJ45': 75,\n",
       " 'portslot | Type-C': 76,\n",
       " 'portslot | USB': 77,\n",
       " 'portslot | _others_': 78,\n",
       " 'security | _others_': 79,\n",
       " 'software | OS': 80,\n",
       " 'software | Software Others': 81,\n",
       " 'software | _others_': 82,\n",
       " 'stylus | Stylus Others': 83,\n",
       " 'stylus | _others_': 84,\n",
       " 'systemstability | Abnormal Reboot': 85,\n",
       " 'systemstability | Freezing': 86,\n",
       " 'systemstability | Shut Down unexpected': 87,\n",
       " 'systemstability | Slow Performance': 88,\n",
       " 'systemstability | System Stability Others': 89,\n",
       " 'systemstability | System freezing': 90,\n",
       " 'systemstability | _others_': 91,\n",
       " 'thermal | CPU high temp/skin temp': 92,\n",
       " 'thermal | Fan not work': 93,\n",
       " 'thermal | Thermal Others': 94,\n",
       " 'thermal | _others_': 95,\n",
       " 'touchpad | TP Click not working': 96,\n",
       " 'touchpad | TP Erratic Pointer': 97,\n",
       " 'touchpad | TP not work': 98,\n",
       " 'touchpad | TP stuck': 99,\n",
       " 'touchpad | TouchPad Others': 100,\n",
       " 'touchpad | _others_': 101,\n",
       " 'touchpanel | Touch Panel No Response': 102,\n",
       " 'touchpanel | _others_': 103,\n",
       " 'video | Abnormal color': 104,\n",
       " 'video | Dim Video': 105,\n",
       " 'video | Distortion': 106,\n",
       " 'video | Flickers': 107,\n",
       " 'video | No video': 108,\n",
       " 'video | Video Others': 109,\n",
       " 'video | _others_': 110,\n",
       " 'webcam | Camera No function': 111,\n",
       " 'webcam | Webcam Others': 112,\n",
       " 'webcam | _others_': 113,\n",
       " 'wireless | WLAN Cannot Connect': 114,\n",
       " 'wireless | WLAN Cannot Detect': 115,\n",
       " 'wireless | Wireless Others': 116,\n",
       " 'wireless | _others_': 117,\n",
       " 'wwan | SIM not Detected': 118,\n",
       " 'wwan | _others_': 119}"
      ]
     },
     "execution_count": 9,
     "metadata": {},
     "output_type": "execute_result"
    }
   ],
   "source": [
    "classes_to_ids = {class_name:i for i, class_name in enumerate(ids_to_classes)}\n",
    "classes_to_ids"
   ]
  },
  {
   "cell_type": "code",
   "execution_count": 10,
   "id": "aa713a29-64c9-4f07-b41a-8a4edc6e5404",
   "metadata": {},
   "outputs": [
    {
     "data": {
      "text/plain": [
       "32"
      ]
     },
     "execution_count": 10,
     "metadata": {},
     "output_type": "execute_result"
    }
   ],
   "source": [
    "classes_to_ids['hdd/ssd | _others_']"
   ]
  },
  {
   "cell_type": "code",
   "execution_count": null,
   "id": "2c124549-6d41-443b-9f35-3f04cabcbdac",
   "metadata": {},
   "outputs": [],
   "source": []
  },
  {
   "cell_type": "code",
   "execution_count": null,
   "id": "7670737d-b575-456a-8f96-7cf60c61f88e",
   "metadata": {},
   "outputs": [],
   "source": []
  },
  {
   "cell_type": "code",
   "execution_count": 11,
   "id": "da4c7717-7f8c-4ea2-a556-d64f642e0732",
   "metadata": {
    "scrolled": true
   },
   "outputs": [],
   "source": [
    "model = BertForSequenceClassification.from_pretrained(\"output_1010_pure_english/2nd_train/checkpoint-23500\")"
   ]
  },
  {
   "cell_type": "code",
   "execution_count": 12,
   "id": "02f99f76-15ec-4c42-86d9-6d7ebc1031fb",
   "metadata": {
    "scrolled": true
   },
   "outputs": [
    {
     "data": {
      "text/plain": [
       "BertForSequenceClassification(\n",
       "  (bert): BertModel(\n",
       "    (embeddings): BertEmbeddings(\n",
       "      (word_embeddings): Embedding(30522, 512, padding_idx=0)\n",
       "      (position_embeddings): Embedding(512, 512)\n",
       "      (token_type_embeddings): Embedding(2, 512)\n",
       "      (LayerNorm): LayerNorm((512,), eps=1e-12, elementwise_affine=True)\n",
       "      (dropout): Dropout(p=0.1, inplace=False)\n",
       "    )\n",
       "    (encoder): BertEncoder(\n",
       "      (layer): ModuleList(\n",
       "        (0-7): 8 x BertLayer(\n",
       "          (attention): BertAttention(\n",
       "            (self): BertSdpaSelfAttention(\n",
       "              (query): Linear(in_features=512, out_features=512, bias=True)\n",
       "              (key): Linear(in_features=512, out_features=512, bias=True)\n",
       "              (value): Linear(in_features=512, out_features=512, bias=True)\n",
       "              (dropout): Dropout(p=0.1, inplace=False)\n",
       "            )\n",
       "            (output): BertSelfOutput(\n",
       "              (dense): Linear(in_features=512, out_features=512, bias=True)\n",
       "              (LayerNorm): LayerNorm((512,), eps=1e-12, elementwise_affine=True)\n",
       "              (dropout): Dropout(p=0.1, inplace=False)\n",
       "            )\n",
       "          )\n",
       "          (intermediate): BertIntermediate(\n",
       "            (dense): Linear(in_features=512, out_features=2048, bias=True)\n",
       "            (intermediate_act_fn): GELUActivation()\n",
       "          )\n",
       "          (output): BertOutput(\n",
       "            (dense): Linear(in_features=2048, out_features=512, bias=True)\n",
       "            (LayerNorm): LayerNorm((512,), eps=1e-12, elementwise_affine=True)\n",
       "            (dropout): Dropout(p=0.1, inplace=False)\n",
       "          )\n",
       "        )\n",
       "      )\n",
       "    )\n",
       "    (pooler): BertPooler(\n",
       "      (dense): Linear(in_features=512, out_features=512, bias=True)\n",
       "      (activation): Tanh()\n",
       "    )\n",
       "  )\n",
       "  (dropout): Dropout(p=0.1, inplace=False)\n",
       "  (classifier): Linear(in_features=512, out_features=120, bias=True)\n",
       ")"
      ]
     },
     "execution_count": 12,
     "metadata": {},
     "output_type": "execute_result"
    }
   ],
   "source": [
    "model"
   ]
  },
  {
   "cell_type": "code",
   "execution_count": 13,
   "id": "75b37313-3637-4d36-8df0-56c04f8013a5",
   "metadata": {},
   "outputs": [
    {
     "data": {
      "text/plain": [
       "device(type='cuda', index=0)"
      ]
     },
     "execution_count": 13,
     "metadata": {},
     "output_type": "execute_result"
    }
   ],
   "source": [
    "model = model.to('cuda')\n",
    "model.device"
   ]
  },
  {
   "cell_type": "code",
   "execution_count": 14,
   "id": "db82de68-a95d-4840-9a00-3cfbb09f89ba",
   "metadata": {},
   "outputs": [],
   "source": [
    "# Create torch dataset\n",
    "class Dataset(torch.utils.data.Dataset):\n",
    "    def __init__(self, encodings, labels=None):\n",
    "        self.encodings = encodings\n",
    "        self.labels = labels\n",
    "\n",
    "    def __getitem__(self, idx):\n",
    "        item = {key: torch.tensor(val[idx]) for key, val in self.encodings.items()}\n",
    "        if self.labels:\n",
    "            item[\"labels\"] = torch.tensor(self.labels[idx])\n",
    "        return item\n",
    "\n",
    "    def __len__(self):\n",
    "        return len(self.encodings[\"input_ids\"])"
   ]
  },
  {
   "cell_type": "code",
   "execution_count": 15,
   "id": "933e9dcf-4507-4797-b243-9c08f0a0fa6d",
   "metadata": {},
   "outputs": [],
   "source": [
    "# train_dataset_model = torch.load('output_1010_pure_english/train_dataset_model.pkt')\n",
    "val_dataset_model = torch.load('output_1010_pure_english/val_dataset_model.pkt')"
   ]
  },
  {
   "cell_type": "code",
   "execution_count": 16,
   "id": "aee65f19-fcaa-41d9-a9a5-eb54871c9567",
   "metadata": {},
   "outputs": [],
   "source": [
    "def compute_metrics(p):\n",
    "    print(type(p))\n",
    "    pred, labels = p\n",
    "    pred = np.argmax(pred, axis=1)\n",
    "\n",
    "    accuracy = accuracy_score(y_true=labels, y_pred=pred)\n",
    "    recall = recall_score(y_true=labels, y_pred=pred, average='micro')\n",
    "    precision = precision_score(y_true=labels, y_pred=pred, average='micro')\n",
    "    f1 = f1_score(y_true=labels, y_pred=pred, average='micro')\n",
    "\n",
    "    return {\"accuracy\": accuracy, \"precision\": precision, \"recall\": recall, \"f1\": f1}\n",
    "\n",
    "def compute_metrics2(p):\n",
    "    print(type(p))\n",
    "    pred, labels = p\n",
    "    pred = np.argmax(pred, axis=1)\n",
    "\n",
    "    report = classification_report(y_true=labels, y_pred=pred, target_names= ids_to_classes)\n",
    "    print(\"Classification Report:\\n\", report)\n",
    "\n",
    "    # cm = confusion_matrix(y_true=labels, y_pred=pred)\n",
    "    # print(\"Confusion Matrix:\\n\", cm)\n",
    "\n",
    "    accuracy = accuracy_score(y_true=labels, y_pred=pred)\n",
    "    recall = recall_score(y_true=labels, y_pred=pred, average='macro')\n",
    "    precision = precision_score(y_true=labels, y_pred=pred, average='macro')\n",
    "    f1 = f1_score(y_true=labels, y_pred=pred, average='macro')\n"
   ]
  },
  {
   "cell_type": "code",
   "execution_count": 17,
   "id": "bfc50569-f927-43fd-80d8-c24591e89c87",
   "metadata": {},
   "outputs": [],
   "source": [
    "# Define Trainer\n",
    "args = TrainingArguments(\n",
    "    output_dir=\"output_1010_pure_english/2nd_train\",  # train 2nd after it was interupted. Previous output path is \"output_1010_pure_english\"\n",
    "    num_train_epochs=5,\n",
    "    per_device_train_batch_size=64\n",
    "\n",
    ")"
   ]
  },
  {
   "cell_type": "code",
   "execution_count": 18,
   "id": "1c14a5bd-1c83-44e0-82ee-d87fd1dcc062",
   "metadata": {},
   "outputs": [],
   "source": [
    "# trainer = Trainer(\n",
    "#     model=model,\n",
    "#     args=args,\n",
    "#     train_dataset=train_dataset_model,\n",
    "#     eval_dataset=val_dataset_model,\n",
    "#     compute_metrics=compute_metrics\n",
    "# )"
   ]
  },
  {
   "cell_type": "code",
   "execution_count": 19,
   "id": "d8bd2f2a-1526-488c-89aa-56eb8ea99a75",
   "metadata": {},
   "outputs": [
    {
     "name": "stderr",
     "output_type": "stream",
     "text": [
      "Detected kernel version 4.18.0, which is below the recommended minimum of 5.5.0; this can cause the process to hang. It is recommended to upgrade the kernel to the minimum version or higher.\n"
     ]
    }
   ],
   "source": [
    "# trainer with compute_metrics2\n",
    "trainer2 = Trainer(\n",
    "    model=model,\n",
    "    args=args,\n",
    "    # train_dataset=train_dataset_model,  # no need to speficy dataset here as we can specify data with evaluate(eval_dataset=your_evalDataset)\n",
    "    # eval_dataset=val_dataset_model,\n",
    "    compute_metrics=compute_metrics2\n",
    ")"
   ]
  },
  {
   "cell_type": "code",
   "execution_count": 20,
   "id": "c84e99e2-218f-4e7a-bde7-e27d10aa10fb",
   "metadata": {},
   "outputs": [],
   "source": [
    "for param in model.parameters():\n",
    "    param.data = param.data.contiguous()"
   ]
  },
  {
   "cell_type": "code",
   "execution_count": 21,
   "id": "6e704342-d56a-46c4-a6d9-cdc2e42ced33",
   "metadata": {},
   "outputs": [],
   "source": [
    "# trainer.train()"
   ]
  },
  {
   "cell_type": "code",
   "execution_count": 22,
   "id": "62b86177-9ff0-4c55-9b9d-d5938449a5c5",
   "metadata": {},
   "outputs": [],
   "source": [
    "# trainer.evaluate() # evaluate our model on the validation set"
   ]
  },
  {
   "cell_type": "code",
   "execution_count": 23,
   "id": "ea4e4acc-9ce8-4372-9e96-53f929ec745c",
   "metadata": {},
   "outputs": [
    {
     "data": {
      "text/html": [
       "\n",
       "    <div>\n",
       "      \n",
       "      <progress value='15066' max='15066' style='width:300px; height:20px; vertical-align: middle;'></progress>\n",
       "      [15066/15066 15:21]\n",
       "    </div>\n",
       "    "
      ],
      "text/plain": [
       "<IPython.core.display.HTML object>"
      ]
     },
     "metadata": {},
     "output_type": "display_data"
    },
    {
     "name": "stdout",
     "output_type": "stream",
     "text": [
      "<class 'transformers.trainer_utils.EvalPrediction'>\n"
     ]
    },
    {
     "ename": "ValueError",
     "evalue": "Number of classes, 114, does not match size of target_names, 120. Try specifying the labels parameter",
     "output_type": "error",
     "traceback": [
      "\u001b[0;31m---------------------------------------------------------------------------\u001b[0m",
      "\u001b[0;31mValueError\u001b[0m                                Traceback (most recent call last)",
      "Cell \u001b[0;32mIn[23], line 2\u001b[0m\n\u001b[1;32m      1\u001b[0m \u001b[38;5;66;03m# val dataset can be specified, which overwrites self.eval_dataset\u001b[39;00m\n\u001b[0;32m----> 2\u001b[0m \u001b[43mtrainer2\u001b[49m\u001b[38;5;241;43m.\u001b[39;49m\u001b[43mevaluate\u001b[49m\u001b[43m(\u001b[49m\u001b[43mval_dataset_model\u001b[49m\u001b[43m)\u001b[49m  \n",
      "File \u001b[0;32m/opt/conda/lib/python3.11/site-packages/transformers/trainer.py:3868\u001b[0m, in \u001b[0;36mTrainer.evaluate\u001b[0;34m(self, eval_dataset, ignore_keys, metric_key_prefix)\u001b[0m\n\u001b[1;32m   3865\u001b[0m start_time \u001b[38;5;241m=\u001b[39m time\u001b[38;5;241m.\u001b[39mtime()\n\u001b[1;32m   3867\u001b[0m eval_loop \u001b[38;5;241m=\u001b[39m \u001b[38;5;28mself\u001b[39m\u001b[38;5;241m.\u001b[39mprediction_loop \u001b[38;5;28;01mif\u001b[39;00m \u001b[38;5;28mself\u001b[39m\u001b[38;5;241m.\u001b[39margs\u001b[38;5;241m.\u001b[39muse_legacy_prediction_loop \u001b[38;5;28;01melse\u001b[39;00m \u001b[38;5;28mself\u001b[39m\u001b[38;5;241m.\u001b[39mevaluation_loop\n\u001b[0;32m-> 3868\u001b[0m output \u001b[38;5;241m=\u001b[39m \u001b[43meval_loop\u001b[49m\u001b[43m(\u001b[49m\n\u001b[1;32m   3869\u001b[0m \u001b[43m    \u001b[49m\u001b[43meval_dataloader\u001b[49m\u001b[43m,\u001b[49m\n\u001b[1;32m   3870\u001b[0m \u001b[43m    \u001b[49m\u001b[43mdescription\u001b[49m\u001b[38;5;241;43m=\u001b[39;49m\u001b[38;5;124;43m\"\u001b[39;49m\u001b[38;5;124;43mEvaluation\u001b[39;49m\u001b[38;5;124;43m\"\u001b[39;49m\u001b[43m,\u001b[49m\n\u001b[1;32m   3871\u001b[0m \u001b[43m    \u001b[49m\u001b[38;5;66;43;03m# No point gathering the predictions if there are no metrics, otherwise we defer to\u001b[39;49;00m\n\u001b[1;32m   3872\u001b[0m \u001b[43m    \u001b[49m\u001b[38;5;66;43;03m# self.args.prediction_loss_only\u001b[39;49;00m\n\u001b[1;32m   3873\u001b[0m \u001b[43m    \u001b[49m\u001b[43mprediction_loss_only\u001b[49m\u001b[38;5;241;43m=\u001b[39;49m\u001b[38;5;28;43;01mTrue\u001b[39;49;00m\u001b[43m \u001b[49m\u001b[38;5;28;43;01mif\u001b[39;49;00m\u001b[43m \u001b[49m\u001b[38;5;28;43mself\u001b[39;49m\u001b[38;5;241;43m.\u001b[39;49m\u001b[43mcompute_metrics\u001b[49m\u001b[43m \u001b[49m\u001b[38;5;129;43;01mis\u001b[39;49;00m\u001b[43m \u001b[49m\u001b[38;5;28;43;01mNone\u001b[39;49;00m\u001b[43m \u001b[49m\u001b[38;5;28;43;01melse\u001b[39;49;00m\u001b[43m \u001b[49m\u001b[38;5;28;43;01mNone\u001b[39;49;00m\u001b[43m,\u001b[49m\n\u001b[1;32m   3874\u001b[0m \u001b[43m    \u001b[49m\u001b[43mignore_keys\u001b[49m\u001b[38;5;241;43m=\u001b[39;49m\u001b[43mignore_keys\u001b[49m\u001b[43m,\u001b[49m\n\u001b[1;32m   3875\u001b[0m \u001b[43m    \u001b[49m\u001b[43mmetric_key_prefix\u001b[49m\u001b[38;5;241;43m=\u001b[39;49m\u001b[43mmetric_key_prefix\u001b[49m\u001b[43m,\u001b[49m\n\u001b[1;32m   3876\u001b[0m \u001b[43m\u001b[49m\u001b[43m)\u001b[49m\n\u001b[1;32m   3878\u001b[0m total_batch_size \u001b[38;5;241m=\u001b[39m \u001b[38;5;28mself\u001b[39m\u001b[38;5;241m.\u001b[39margs\u001b[38;5;241m.\u001b[39meval_batch_size \u001b[38;5;241m*\u001b[39m \u001b[38;5;28mself\u001b[39m\u001b[38;5;241m.\u001b[39margs\u001b[38;5;241m.\u001b[39mworld_size\n\u001b[1;32m   3879\u001b[0m \u001b[38;5;28;01mif\u001b[39;00m \u001b[38;5;124mf\u001b[39m\u001b[38;5;124m\"\u001b[39m\u001b[38;5;132;01m{\u001b[39;00mmetric_key_prefix\u001b[38;5;132;01m}\u001b[39;00m\u001b[38;5;124m_jit_compilation_time\u001b[39m\u001b[38;5;124m\"\u001b[39m \u001b[38;5;129;01min\u001b[39;00m output\u001b[38;5;241m.\u001b[39mmetrics:\n",
      "File \u001b[0;32m/opt/conda/lib/python3.11/site-packages/transformers/trainer.py:4160\u001b[0m, in \u001b[0;36mTrainer.evaluation_loop\u001b[0;34m(self, dataloader, description, prediction_loss_only, ignore_keys, metric_key_prefix)\u001b[0m\n\u001b[1;32m   4156\u001b[0m         metrics \u001b[38;5;241m=\u001b[39m \u001b[38;5;28mself\u001b[39m\u001b[38;5;241m.\u001b[39mcompute_metrics(\n\u001b[1;32m   4157\u001b[0m             EvalPrediction(predictions\u001b[38;5;241m=\u001b[39mall_preds, label_ids\u001b[38;5;241m=\u001b[39mall_labels, inputs\u001b[38;5;241m=\u001b[39mall_inputs)\n\u001b[1;32m   4158\u001b[0m         )\n\u001b[1;32m   4159\u001b[0m     \u001b[38;5;28;01melse\u001b[39;00m:\n\u001b[0;32m-> 4160\u001b[0m         metrics \u001b[38;5;241m=\u001b[39m \u001b[38;5;28;43mself\u001b[39;49m\u001b[38;5;241;43m.\u001b[39;49m\u001b[43mcompute_metrics\u001b[49m\u001b[43m(\u001b[49m\u001b[43mEvalPrediction\u001b[49m\u001b[43m(\u001b[49m\u001b[43mpredictions\u001b[49m\u001b[38;5;241;43m=\u001b[39;49m\u001b[43mall_preds\u001b[49m\u001b[43m,\u001b[49m\u001b[43m \u001b[49m\u001b[43mlabel_ids\u001b[49m\u001b[38;5;241;43m=\u001b[39;49m\u001b[43mall_labels\u001b[49m\u001b[43m)\u001b[49m\u001b[43m)\u001b[49m\n\u001b[1;32m   4161\u001b[0m \u001b[38;5;28;01melif\u001b[39;00m metrics \u001b[38;5;129;01mis\u001b[39;00m \u001b[38;5;28;01mNone\u001b[39;00m:\n\u001b[1;32m   4162\u001b[0m     metrics \u001b[38;5;241m=\u001b[39m {}\n",
      "Cell \u001b[0;32mIn[16], line 18\u001b[0m, in \u001b[0;36mcompute_metrics2\u001b[0;34m(p)\u001b[0m\n\u001b[1;32m     15\u001b[0m pred, labels \u001b[38;5;241m=\u001b[39m p\n\u001b[1;32m     16\u001b[0m pred \u001b[38;5;241m=\u001b[39m np\u001b[38;5;241m.\u001b[39margmax(pred, axis\u001b[38;5;241m=\u001b[39m\u001b[38;5;241m1\u001b[39m)\n\u001b[0;32m---> 18\u001b[0m report \u001b[38;5;241m=\u001b[39m \u001b[43mclassification_report\u001b[49m\u001b[43m(\u001b[49m\u001b[43my_true\u001b[49m\u001b[38;5;241;43m=\u001b[39;49m\u001b[43mlabels\u001b[49m\u001b[43m,\u001b[49m\u001b[43m \u001b[49m\u001b[43my_pred\u001b[49m\u001b[38;5;241;43m=\u001b[39;49m\u001b[43mpred\u001b[49m\u001b[43m,\u001b[49m\u001b[43m \u001b[49m\u001b[43mtarget_names\u001b[49m\u001b[38;5;241;43m=\u001b[39;49m\u001b[43m \u001b[49m\u001b[43mids_to_classes\u001b[49m\u001b[43m)\u001b[49m\n\u001b[1;32m     19\u001b[0m \u001b[38;5;28mprint\u001b[39m(\u001b[38;5;124m\"\u001b[39m\u001b[38;5;124mClassification Report:\u001b[39m\u001b[38;5;130;01m\\n\u001b[39;00m\u001b[38;5;124m\"\u001b[39m, report)\n\u001b[1;32m     21\u001b[0m \u001b[38;5;66;03m# cm = confusion_matrix(y_true=labels, y_pred=pred)\u001b[39;00m\n\u001b[1;32m     22\u001b[0m \u001b[38;5;66;03m# print(\"Confusion Matrix:\\n\", cm)\u001b[39;00m\n",
      "File \u001b[0;32m/opt/conda/lib/python3.11/site-packages/sklearn/utils/_param_validation.py:213\u001b[0m, in \u001b[0;36mvalidate_params.<locals>.decorator.<locals>.wrapper\u001b[0;34m(*args, **kwargs)\u001b[0m\n\u001b[1;32m    207\u001b[0m \u001b[38;5;28;01mtry\u001b[39;00m:\n\u001b[1;32m    208\u001b[0m     \u001b[38;5;28;01mwith\u001b[39;00m config_context(\n\u001b[1;32m    209\u001b[0m         skip_parameter_validation\u001b[38;5;241m=\u001b[39m(\n\u001b[1;32m    210\u001b[0m             prefer_skip_nested_validation \u001b[38;5;129;01mor\u001b[39;00m global_skip_validation\n\u001b[1;32m    211\u001b[0m         )\n\u001b[1;32m    212\u001b[0m     ):\n\u001b[0;32m--> 213\u001b[0m         \u001b[38;5;28;01mreturn\u001b[39;00m \u001b[43mfunc\u001b[49m\u001b[43m(\u001b[49m\u001b[38;5;241;43m*\u001b[39;49m\u001b[43margs\u001b[49m\u001b[43m,\u001b[49m\u001b[43m \u001b[49m\u001b[38;5;241;43m*\u001b[39;49m\u001b[38;5;241;43m*\u001b[39;49m\u001b[43mkwargs\u001b[49m\u001b[43m)\u001b[49m\n\u001b[1;32m    214\u001b[0m \u001b[38;5;28;01mexcept\u001b[39;00m InvalidParameterError \u001b[38;5;28;01mas\u001b[39;00m e:\n\u001b[1;32m    215\u001b[0m     \u001b[38;5;66;03m# When the function is just a wrapper around an estimator, we allow\u001b[39;00m\n\u001b[1;32m    216\u001b[0m     \u001b[38;5;66;03m# the function to delegate validation to the estimator, but we replace\u001b[39;00m\n\u001b[1;32m    217\u001b[0m     \u001b[38;5;66;03m# the name of the estimator by the name of the function in the error\u001b[39;00m\n\u001b[1;32m    218\u001b[0m     \u001b[38;5;66;03m# message to avoid confusion.\u001b[39;00m\n\u001b[1;32m    219\u001b[0m     msg \u001b[38;5;241m=\u001b[39m re\u001b[38;5;241m.\u001b[39msub(\n\u001b[1;32m    220\u001b[0m         \u001b[38;5;124mr\u001b[39m\u001b[38;5;124m\"\u001b[39m\u001b[38;5;124mparameter of \u001b[39m\u001b[38;5;124m\\\u001b[39m\u001b[38;5;124mw+ must be\u001b[39m\u001b[38;5;124m\"\u001b[39m,\n\u001b[1;32m    221\u001b[0m         \u001b[38;5;124mf\u001b[39m\u001b[38;5;124m\"\u001b[39m\u001b[38;5;124mparameter of \u001b[39m\u001b[38;5;132;01m{\u001b[39;00mfunc\u001b[38;5;241m.\u001b[39m\u001b[38;5;18m__qualname__\u001b[39m\u001b[38;5;132;01m}\u001b[39;00m\u001b[38;5;124m must be\u001b[39m\u001b[38;5;124m\"\u001b[39m,\n\u001b[1;32m    222\u001b[0m         \u001b[38;5;28mstr\u001b[39m(e),\n\u001b[1;32m    223\u001b[0m     )\n",
      "File \u001b[0;32m/opt/conda/lib/python3.11/site-packages/sklearn/metrics/_classification.py:2626\u001b[0m, in \u001b[0;36mclassification_report\u001b[0;34m(y_true, y_pred, labels, target_names, sample_weight, digits, output_dict, zero_division)\u001b[0m\n\u001b[1;32m   2620\u001b[0m         warnings\u001b[38;5;241m.\u001b[39mwarn(\n\u001b[1;32m   2621\u001b[0m             \u001b[38;5;124m\"\u001b[39m\u001b[38;5;124mlabels size, \u001b[39m\u001b[38;5;132;01m{0}\u001b[39;00m\u001b[38;5;124m, does not match size of target_names, \u001b[39m\u001b[38;5;132;01m{1}\u001b[39;00m\u001b[38;5;124m\"\u001b[39m\u001b[38;5;241m.\u001b[39mformat(\n\u001b[1;32m   2622\u001b[0m                 \u001b[38;5;28mlen\u001b[39m(labels), \u001b[38;5;28mlen\u001b[39m(target_names)\n\u001b[1;32m   2623\u001b[0m             )\n\u001b[1;32m   2624\u001b[0m         )\n\u001b[1;32m   2625\u001b[0m     \u001b[38;5;28;01melse\u001b[39;00m:\n\u001b[0;32m-> 2626\u001b[0m         \u001b[38;5;28;01mraise\u001b[39;00m \u001b[38;5;167;01mValueError\u001b[39;00m(\n\u001b[1;32m   2627\u001b[0m             \u001b[38;5;124m\"\u001b[39m\u001b[38;5;124mNumber of classes, \u001b[39m\u001b[38;5;132;01m{0}\u001b[39;00m\u001b[38;5;124m, does not match size of \u001b[39m\u001b[38;5;124m\"\u001b[39m\n\u001b[1;32m   2628\u001b[0m             \u001b[38;5;124m\"\u001b[39m\u001b[38;5;124mtarget_names, \u001b[39m\u001b[38;5;132;01m{1}\u001b[39;00m\u001b[38;5;124m. Try specifying the labels \u001b[39m\u001b[38;5;124m\"\u001b[39m\n\u001b[1;32m   2629\u001b[0m             \u001b[38;5;124m\"\u001b[39m\u001b[38;5;124mparameter\u001b[39m\u001b[38;5;124m\"\u001b[39m\u001b[38;5;241m.\u001b[39mformat(\u001b[38;5;28mlen\u001b[39m(labels), \u001b[38;5;28mlen\u001b[39m(target_names))\n\u001b[1;32m   2630\u001b[0m         )\n\u001b[1;32m   2631\u001b[0m \u001b[38;5;28;01mif\u001b[39;00m target_names \u001b[38;5;129;01mis\u001b[39;00m \u001b[38;5;28;01mNone\u001b[39;00m:\n\u001b[1;32m   2632\u001b[0m     target_names \u001b[38;5;241m=\u001b[39m [\u001b[38;5;124m\"\u001b[39m\u001b[38;5;132;01m%s\u001b[39;00m\u001b[38;5;124m\"\u001b[39m \u001b[38;5;241m%\u001b[39m l \u001b[38;5;28;01mfor\u001b[39;00m l \u001b[38;5;129;01min\u001b[39;00m labels]\n",
      "\u001b[0;31mValueError\u001b[0m: Number of classes, 114, does not match size of target_names, 120. Try specifying the labels parameter"
     ]
    }
   ],
   "source": [
    "# val dataset can be specified, which overwrites self.eval_dataset\n",
    "trainer2.evaluate(val_dataset_model)  "
   ]
  },
  {
   "cell_type": "code",
   "execution_count": null,
   "id": "244d48d6-3968-46f0-9056-4b4724858a0f",
   "metadata": {},
   "outputs": [],
   "source": [
    "# ValueError: Number of classes, 114, does not match size of target_names, 120. Try specifying the labels parameter\n"
   ]
  }
 ],
 "metadata": {
  "kernelspec": {
   "display_name": "(root) Python *",
   "language": "python",
   "name": "conda-root-py"
  },
  "language_info": {
   "codemirror_mode": {
    "name": "ipython",
    "version": 3
   },
   "file_extension": ".py",
   "mimetype": "text/x-python",
   "name": "python",
   "nbconvert_exporter": "python",
   "pygments_lexer": "ipython3",
   "version": "3.11.9"
  }
 },
 "nbformat": 4,
 "nbformat_minor": 5
}
